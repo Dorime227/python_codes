{
  "nbformat": 4,
  "nbformat_minor": 0,
  "metadata": {
    "colab": {
      "name": "Lab Assignment 6-111",
      "provenance": [],
      "collapsed_sections": [],
      "authorship_tag": "ABX9TyMCC9jpIx/iwSWAvK5nwDZM",
      "include_colab_link": true
    },
    "kernelspec": {
      "name": "python3",
      "display_name": "Python 3"
    },
    "language_info": {
      "name": "python"
    }
  },
  "cells": [
    {
      "cell_type": "markdown",
      "metadata": {
        "id": "view-in-github",
        "colab_type": "text"
      },
      "source": [
        "<a href=\"https://colab.research.google.com/github/Atiq0641/python_codes/blob/main/Lab_Assignment_6_111.ipynb\" target=\"_parent\"><img src=\"https://colab.research.google.com/assets/colab-badge.svg\" alt=\"Open In Colab\"/></a>"
      ]
    },
    {
      "cell_type": "markdown",
      "source": [
        "1"
      ],
      "metadata": {
        "id": "GbaTPIPFl5QY"
      }
    },
    {
      "cell_type": "code",
      "execution_count": null,
      "metadata": {
        "colab": {
          "base_uri": "https://localhost:8080/"
        },
        "id": "e9Cx-81sSb7H",
        "outputId": "98403ab0-bb93-46b7-c224-44edf5c7dc38"
      },
      "outputs": [
        {
          "output_type": "stream",
          "name": "stdout",
          "text": [
            "ID: 1\n",
            "Name: Samin\n",
            "Department: CSE\n",
            "Age: 21\n",
            "CGPA: 3.91\n",
            "-----------------------\n",
            "ID: 2\n",
            "Name: Fahim\n",
            "Department: ECE\n",
            "Age: 21\n",
            "CGPA: 3.85\n",
            "-----------------------\n",
            "ID: 3\n",
            "Name: Tahura\n",
            "Department: EEE\n",
            "Age: 22\n",
            "CGPA: 3.01\n",
            "-----------------------\n",
            "ID: 4\n",
            "Name: Sumaiya\n",
            "Department: BBA\n",
            "Age: 23\n",
            "CGPA: 3.96\n"
          ]
        }
      ],
      "source": [
        "class Student:\n",
        "  ID=0\n",
        "  def __init__(self,name,department,age,cgpa):\n",
        "    self.name=name\n",
        "    self.department=department\n",
        "    self.age=age\n",
        "    self.cgpa=cgpa\n",
        "  def get_details(self):\n",
        "    Student.ID+=1\n",
        "    print(f'ID: {Student.ID}\\nName: {self.name}\\nDepartment: {self.department}\\nAge: {self.age}\\nCGPA: {self.cgpa}')\n",
        "  @classmethod\n",
        "  def from_String(cls,info):\n",
        "    info_list=info.split('-')\n",
        "    name=info_list[0]\n",
        "    department=info_list[1]\n",
        "    age=info_list[2]\n",
        "    cgpa=info_list[3]\n",
        "    return cls(name,department,age,cgpa)\n",
        "s1 = Student(\"Samin\", \"CSE\", 21, 3.91)\n",
        "s1.get_details()\n",
        "print(\"-----------------------\")\n",
        "s2 = Student(\"Fahim\", \"ECE\", 21, 3.85)\n",
        "s2.get_details()\n",
        "print(\"-----------------------\")\n",
        "s3 = Student(\"Tahura\", \"EEE\", 22, 3.01)\n",
        "s3.get_details()\n",
        "print(\"-----------------------\")\n",
        "s4 = Student.from_String(\"Sumaiya-BBA-23-3.96\")\n",
        "s4.get_details()     "
      ]
    },
    {
      "cell_type": "markdown",
      "source": [
        "2"
      ],
      "metadata": {
        "id": "wZO_W2Syl6XH"
      }
    },
    {
      "cell_type": "code",
      "source": [
        "class Assassin:\n",
        "  assasination=0\n",
        "  def __init__(self,name,sucess_rate):\n",
        "    self.name=name\n",
        "    self.sucess_rate=sucess_rate\n",
        "    Assassin.assasination+=1\n",
        "  @classmethod\n",
        "  def failureRate(cls,name,failure):\n",
        "    sucess=100-failure\n",
        "    return cls(name,sucess)\n",
        "  @classmethod\n",
        "  def failurePercentage(cls,name,failure_percentage):\n",
        "    failure_percentage1=''\n",
        "    for i in failure_percentage:\n",
        "      if i!=\"%\":\n",
        "        failure_percentage1+=i\n",
        "    sucess_percentage=100-int(failure_percentage1)\n",
        "    return cls(name,sucess_percentage)\n",
        "  def printDetails(self):\n",
        "    print(f'Name: {self.name}\\nSuccess rate: {self.sucess_rate}%\\nTotal number of Assassin: {Assassin.assasination}')\n",
        "john_wick = Assassin('John Wick', 100)\n",
        "john_wick.printDetails()\n",
        "print('================================')\n",
        "nagisa = Assassin.failureRate(\"Nagisa\", 20)\n",
        "nagisa.printDetails()\n",
        "print('================================')\n",
        "akabane = Assassin.failurePercentage(\"Akabane\", \"10%\")\n",
        "akabane.printDetails() "
      ],
      "metadata": {
        "colab": {
          "base_uri": "https://localhost:8080/"
        },
        "id": "lHTdcjdTXd5U",
        "outputId": "e5b70d00-d80d-43fa-e13a-89b9b2fc2cb6"
      },
      "execution_count": null,
      "outputs": [
        {
          "output_type": "stream",
          "name": "stdout",
          "text": [
            "Name: John Wick\n",
            "Success rate: 100%\n",
            "Total number of Assassin: 1\n",
            "================================\n",
            "Name: Nagisa\n",
            "Success rate: 80%\n",
            "Total number of Assassin: 2\n",
            "================================\n",
            "Name: Akabane\n",
            "Success rate: 90%\n",
            "Total number of Assassin: 3\n"
          ]
        }
      ]
    },
    {
      "cell_type": "markdown",
      "source": [
        "3"
      ],
      "metadata": {
        "id": "T6D1FSaWl7xA"
      }
    },
    {
      "cell_type": "code",
      "source": [
        "class Passenger:\n",
        "  count=0\n",
        "  def __init__(self,name):\n",
        "    self.name=name\n",
        "    self.bus_fare=0\n",
        "    Passenger.count+=1\n",
        "  def set_bag_weight(self,weight):\n",
        "    if weight<=20:\n",
        "      self.bus_fare=450\n",
        "    elif 21<=weight<=50:\n",
        "      self.bus_fare=450+50\n",
        "    else:\n",
        "      self.bus_fare=450+100\n",
        "  def printDetail(self):\n",
        "    print(f'Name: {self.name}\\nBus Fare: {self.bus_fare}')\n",
        "print('Total Passenger:', Passenger.count)\n",
        "p1 = Passenger('Jack')\n",
        "p1.set_bag_weight(90)\n",
        "p2 = Passenger('Carol')\n",
        "p2.set_bag_weight(10)\n",
        "p3 = Passenger('Mike')\n",
        "p3.set_bag_weight(25)\n",
        "print(\"=========================\")\n",
        "p1.printDetail()\n",
        "print(\"=========================\")\n",
        "p2.printDetail()\n",
        "print(\"=========================\")\n",
        "p3.printDetail()\n",
        "print(\"=========================\")\n",
        "print('Total Passenger:', Passenger.count)        "
      ],
      "metadata": {
        "id": "Ur3f-vMMcDhN",
        "colab": {
          "base_uri": "https://localhost:8080/"
        },
        "outputId": "d7e6d444-91c2-40cb-be12-3941db6430a1"
      },
      "execution_count": null,
      "outputs": [
        {
          "output_type": "stream",
          "name": "stdout",
          "text": [
            "Total Passenger: 0\n",
            "=========================\n",
            "Name: Jack\n",
            "Bus Fare: 550\n",
            "=========================\n",
            "Name: Carol\n",
            "Bus Fare: 450\n",
            "=========================\n",
            "Name: Mike\n",
            "Bus Fare: 500\n",
            "=========================\n",
            "Total Passenger: 3\n"
          ]
        }
      ]
    },
    {
      "cell_type": "markdown",
      "source": [
        "4"
      ],
      "metadata": {
        "id": "S5q9kYtQl80W"
      }
    },
    {
      "cell_type": "code",
      "source": [
        "class Travel:\n",
        "  count=0\n",
        "  def __init__(self,source,desti):\n",
        "    self.source=source\n",
        "    self.desti=desti\n",
        "    self.flight_time=1\n",
        "    Travel.count+=1\n",
        "  def set_time(self,time):\n",
        "    self.flight_time=time\n",
        "  def display_travel_info(self):\n",
        "    return f'Source:{self.source}\\nDestination:{self.desti}\\nFlight Time:{self.flight_time}:00'\n",
        "  def set_source(self,new_source):\n",
        "    self.source=new_source\n",
        "  def set_destination(self,new_desti):\n",
        "    self.desti=new_desti\n",
        "print('No. of Traveller =', Travel.count)\n",
        "print(\"=======================\")\n",
        "t1 = Travel(\"Dhaka\",\"India\")\n",
        "print(t1.display_travel_info())\n",
        "print(\"=======================\")\n",
        "t2 = Travel(\"Kuala Lampur\",\"Dhaka\")\n",
        "t2.set_time(23)\n",
        "print(t2.display_travel_info())\n",
        "print(\"=======================\")\n",
        "t3 = Travel(\"Dhaka\",\"New_Zealand\")\n",
        "t3.set_time(15)\n",
        "t3.set_destination(\"Germany\")\n",
        "print(t3.display_travel_info())\n",
        "print(\"=======================\")\n",
        "t4 = Travel(\"Dhaka\",\"India\")\n",
        "t4.set_time(9)\n",
        "t4.set_source(\"Malaysia\")\n",
        "t4.set_destination(\"Canada\")\n",
        "print(t4.display_travel_info())\n",
        "print(\"=======================\")\n",
        "print('No. of Traveller =', Travel.count)            "
      ],
      "metadata": {
        "colab": {
          "base_uri": "https://localhost:8080/"
        },
        "id": "wU0_HStui7aQ",
        "outputId": "7673c831-2cd6-4b1a-e174-c981862e4311"
      },
      "execution_count": 8,
      "outputs": [
        {
          "output_type": "stream",
          "name": "stdout",
          "text": [
            "No. of Traveller = 0\n",
            "=======================\n",
            "Source:Dhaka\n",
            "Destination:India\n",
            "Flight Time:1:00\n",
            "=======================\n",
            "Source:Kuala Lampur\n",
            "Destination:Dhaka\n",
            "Flight Time:23:00\n",
            "=======================\n",
            "Source:Dhaka\n",
            "Destination:Germany\n",
            "Flight Time:15:00\n",
            "=======================\n",
            "Source:Malaysia\n",
            "Destination:Canada\n",
            "Flight Time:9:00\n",
            "=======================\n",
            "No. of Traveller = 4\n"
          ]
        }
      ]
    },
    {
      "cell_type": "markdown",
      "source": [
        "5"
      ],
      "metadata": {
        "id": "ODHHNleLl9sH"
      }
    },
    {
      "cell_type": "code",
      "source": [
        "class Employee:\n",
        "  def __init__(self,name,workingPeriod):\n",
        "    self.name=name\n",
        "    self.workingPeriod=workingPeriod\n",
        "  @classmethod\n",
        "  def employeeByJoiningYear(cls,name,year):\n",
        "    name=name\n",
        "    workingPeriod=int(year)-2010\n",
        "    return cls(name,workingPeriod)\n",
        "  @staticmethod\n",
        "  def experienceCheck(workingPeriod,gender):\n",
        "    if workingPeriod>=3 and gender==\"male\" :\n",
        "      return \"He is experienced\"\n",
        "    elif workingPeriod>=3 and gender==\"female\":\n",
        "      return \"She is experienced\"\n",
        "    elif workingPeriod<3 and gender==\"male\":\n",
        "      return \"He is not experienced\"\n",
        "    elif workingPeriod<3 and gender==\"female\":\n",
        "      return \"She is not experienced\"\n",
        "employee1 = Employee('Dororo', 3)\n",
        "employee2 = Employee.employeeByJoiningYear('Harry', 2016)\n",
        "print(employee1.workingPeriod)\n",
        "print(employee2.workingPeriod)\n",
        "print(employee1.name)\n",
        "print(employee2.name)\n",
        "print(Employee.experienceCheck(2, \"male\"))\n",
        "print(Employee.experienceCheck(3, \"female\"))            "
      ],
      "metadata": {
        "colab": {
          "base_uri": "https://localhost:8080/"
        },
        "id": "PB2DndOul3B4",
        "outputId": "176fa37f-a5b6-4531-ccbd-d108860a73ba"
      },
      "execution_count": 10,
      "outputs": [
        {
          "output_type": "stream",
          "name": "stdout",
          "text": [
            "3\n",
            "6\n",
            "Dororo\n",
            "Harry\n",
            "He is not experienced\n",
            "She is experienced\n"
          ]
        }
      ]
    },
    {
      "cell_type": "markdown",
      "source": [
        "6"
      ],
      "metadata": {
        "id": "iGiTVXC_pG6P"
      }
    },
    {
      "cell_type": "code",
      "source": [
        "class Laptop:\n",
        "  laptopCount=0\n",
        "  def __init__(self,name,laptop_count):\n",
        "    self.name=name\n",
        "    self.count=laptop_count\n",
        "    Laptop.laptopCount+=laptop_count\n",
        "  @classmethod\n",
        "  def advantage(cls):\n",
        "    print(\"Laptops are portable\")\n",
        "  @classmethod\n",
        "  def resetCount(cls):\n",
        "    cls.laptopCount=0    \n",
        "lenovo = Laptop(\"Lenovo\", 5);\n",
        "dell = Laptop(\"Dell\", 7);\n",
        "print(lenovo.name, lenovo.count)\n",
        "print(dell.name, dell.count)\n",
        "print(\"Total number of Laptops\", Laptop.laptopCount)\n",
        "Laptop.advantage()\n",
        "Laptop.resetCount()\n",
        "print(\"Total number of Laptops\", Laptop.laptopCount)  "
      ],
      "metadata": {
        "colab": {
          "base_uri": "https://localhost:8080/"
        },
        "id": "WvaY6G8SpIiv",
        "outputId": "bcc357e8-16c8-4ddd-f4c9-454ec58925bb"
      },
      "execution_count": 18,
      "outputs": [
        {
          "output_type": "stream",
          "name": "stdout",
          "text": [
            "Lenovo 5\n",
            "Dell 7\n",
            "Total number of Laptops 12\n",
            "Laptops are portable\n",
            "Total number of Laptops 0\n"
          ]
        }
      ]
    },
    {
      "cell_type": "markdown",
      "source": [
        "7"
      ],
      "metadata": {
        "id": "HCAaZNpHrl8X"
      }
    },
    {
      "cell_type": "code",
      "source": [
        "class Cat:\n",
        "  Number_of_cats=0\n",
        "  def __init__(self,cat_color,cat_activity):\n",
        "    self.cat_color=cat_color\n",
        "    self.cat_activity=cat_activity\n",
        "    Cat.Number_of_cats+=1\n",
        "  def printCat(self):\n",
        "    print(f'{self.cat_color} cat is {self.cat_activity}') \n",
        "  def changeColor(self,color):\n",
        "    self.cat_color=color\n",
        "  @classmethod\n",
        "  def no_parameter(cls):\n",
        "    color=\"White\"\n",
        "    activity='sitting'\n",
        "    return cls(color,activity)\n",
        "  @classmethod\n",
        "  def first_parameter(cls,color):\n",
        "    activity='sitting'\n",
        "    return cls(color,activity)\n",
        "  @classmethod\n",
        "  def second_parameter(cls,activity):\n",
        "    color=\"Grey\"\n",
        "    return cls(color,activity)\n",
        "print(\"Total number of cats:\", Cat.Number_of_cats)\n",
        "c1 = Cat.no_parameter()\n",
        "c2 = Cat.first_parameter(\"Black\")\n",
        "c3 = Cat(\"Brown\", \"jumping\")\n",
        "c4 = Cat(\"Red\", \"purring\")\n",
        "c5 = Cat.second_parameter(\"playing\")\n",
        "print(\"=======================\")\n",
        "c1.printCat()\n",
        "c2.printCat()\n",
        "c3.printCat()\n",
        "c4.printCat()\n",
        "c5.printCat()\n",
        "c1.changeColor(\"Blue\")\n",
        "c3.changeColor(\"Purple\")\n",
        "c1.printCat()\n",
        "c3.printCat()\n",
        "print(\"=======================\")\n",
        "print(\"Total number of cats:\", Cat.Number_of_cats)    "
      ],
      "metadata": {
        "colab": {
          "base_uri": "https://localhost:8080/"
        },
        "id": "tt69yI4Crny-",
        "outputId": "2cedd9a9-6357-4d90-9e1e-244c0bc54870"
      },
      "execution_count": 30,
      "outputs": [
        {
          "output_type": "stream",
          "name": "stdout",
          "text": [
            "Total number of cats: 0\n",
            "=======================\n",
            "White cat is sitting\n",
            "Black cat is sitting\n",
            "Brown cat is jumping\n",
            "Red cat is purring\n",
            "Grey cat is playing\n",
            "Blue cat is sitting\n",
            "Purple cat is jumping\n",
            "=======================\n",
            "Total number of cats: 5\n"
          ]
        }
      ]
    },
    {
      "cell_type": "markdown",
      "source": [
        "8"
      ],
      "metadata": {
        "id": "eGvcN-nn4Hpz"
      }
    },
    {
      "cell_type": "code",
      "source": [
        "import math\n",
        "class Cylinder:\n",
        "  radius=5\n",
        "  height=18\n",
        "  def __init__(self,radius,height):\n",
        "    print(f'Default radius={Cylinder.radius} and height={Cylinder.height}.')\n",
        "    Cylinder.radius=radius\n",
        "    Cylinder.height=height\n",
        "    print(f'Updated: radius={radius} and height={height}.')\n",
        "  def area(self,radius,height):\n",
        "    area=(2*math.pi*radius**2)+(2*math.pi*radius*height)\n",
        "    print(area)\n",
        "  def volume(self,radius,height):\n",
        "    volume=math.pi*radius**2*height\n",
        "    print(f'Volume: {volume}')\n",
        "  @classmethod\n",
        "  def changeFormat(cls,info):\n",
        "    info_lst=info.split('-')\n",
        "    radius=float(info_lst[0])\n",
        "    height=float(info_lst[1])\n",
        "    return cls(radius,height)\n",
        "  @classmethod\n",
        "  def swap(cls,radius,height):\n",
        "    return cls(height,radius)\n",
        "  @staticmethod\n",
        "  def area(radius,height):\n",
        "    area=(2*math.pi*radius**2)+(2*math.pi*radius*height)\n",
        "    print(f'Area: {area}')\n",
        "  @staticmethod\n",
        "  def volume(radius,height):\n",
        "    volume=math.pi*radius**2*height\n",
        "    print(f'Volume: {volume}')    \n",
        "c1 = Cylinder(0,0)\n",
        "Cylinder.area(c1.radius,c1.height)\n",
        "Cylinder.volume(c1.radius,c1.height)\n",
        "print(\"===============================\")\n",
        "c2 = Cylinder.swap(8,3)\n",
        "\n",
        "c2.area(c2.radius,c2.height)\n",
        "c2.volume(c2.radius,c2.height)\n",
        "print(\"===============================\")\n",
        "c3 = Cylinder.changeFormat(\"7-13\")\n",
        "c3.area(c3.radius,c3.height)\n",
        "c3.volume(c3.radius,c3.height)\n",
        "print(\"===============================\")\n",
        "Cylinder(0.3,5.56).area(Cylinder.radius,Cylinder.height)\n",
        "print(\"===============================\")\n",
        "Cylinder(3,5).volume(Cylinder.radius,Cylinder.height)         "
      ],
      "metadata": {
        "colab": {
          "base_uri": "https://localhost:8080/"
        },
        "id": "qTZHQ3qY4Iqi",
        "outputId": "22a2db62-07c4-4319-d246-416ceaa21f3b"
      },
      "execution_count": 40,
      "outputs": [
        {
          "output_type": "stream",
          "name": "stdout",
          "text": [
            "Default radius=5 and height=18.\n",
            "Updated: radius=0 and height=0.\n",
            "Area: 0.0\n",
            "Volume: 0.0\n",
            "===============================\n",
            "Default radius=0 and height=0.\n",
            "Updated: radius=3 and height=8.\n",
            "Area: 207.34511513692635\n",
            "Volume: 226.1946710584651\n",
            "===============================\n",
            "Default radius=3 and height=8.\n",
            "Updated: radius=7.0 and height=13.0.\n",
            "Area: 879.645943005142\n",
            "Volume: 2001.1945203366981\n",
            "===============================\n",
            "Default radius=7.0 and height=13.0.\n",
            "Updated: radius=0.3 and height=5.56.\n",
            "Area: 11.045839770021713\n",
            "===============================\n",
            "Default radius=0.3 and height=5.56.\n",
            "Updated: radius=3 and height=5.\n",
            "Volume: 141.3716694115407\n"
          ]
        }
      ]
    },
    {
      "cell_type": "markdown",
      "source": [
        "9"
      ],
      "metadata": {
        "id": "muZMleDIOGWk"
      }
    },
    {
      "cell_type": "code",
      "source": [
        "class Student:\n",
        "  bracu_student=0\n",
        "  other_student=0\n",
        "  total_student= 0\n",
        "  def __init__(self,name,department,insti=\"BRAC University\"):\n",
        "    self.name=name\n",
        "    self.department=department\n",
        "    self.insti=insti\n",
        "    if self.insti==\"BRAC University\":\n",
        "      Student.bracu_student+=1\n",
        "    else:\n",
        "      Student.other_student+=1\n",
        "    Student.total_student= Student.bracu_student+Student.other_student  \n",
        "  def individualDetail(self):\n",
        "    print(f'Name: {self.name}\\nDepartment: {self.department}\\nInstitution: {self.insti}')\n",
        "  @classmethod\n",
        "  def printDetails(cls):\n",
        "    print(f'Total Student(s): {cls.total_student}\\nBRAC University Student(s): {cls.bracu_student}\\nOther Institution Student(s): {cls.other_student}')\n",
        "  @classmethod\n",
        "  def createStudent(cls,name,department,insti=\"BRAC University\"):\n",
        "     return cls(name,department,insti)\n",
        "Student.printDetails()\n",
        "print('#########################')\n",
        "mikasa = Student('Mikasa Ackerman', \"CSE\")\n",
        "mikasa.individualDetail()\n",
        "print('------------------------------------------')\n",
        "Student.printDetails()\n",
        "print('========================')\n",
        "harry = Student.createStudent('Harry Potter', \"Defence Against Dark Arts\", \"Hogwarts School\")\n",
        "harry.individualDetail()\n",
        "print('-------------------------------------------')\n",
        "Student.printDetails()\n",
        "print('=========================')\n",
        "levi = Student.createStudent(\"Levi Ackerman\", \"CSE\")\n",
        "levi.individualDetail()\n",
        "print('--------------------------------------------')\n",
        "Student.printDetails()             "
      ],
      "metadata": {
        "colab": {
          "base_uri": "https://localhost:8080/"
        },
        "id": "bRKKoyHHOHRd",
        "outputId": "1171f4e9-5a3f-4b22-f831-7a1eee553d6c"
      },
      "execution_count": 54,
      "outputs": [
        {
          "output_type": "stream",
          "name": "stdout",
          "text": [
            "Total Student(s): 0\n",
            "BRAC University Student(s): 0\n",
            "Other Institution Student(s): 0\n",
            "#########################\n",
            "Name: Mikasa Ackerman\n",
            "Department: CSE\n",
            "Institution: BRAC University\n",
            "------------------------------------------\n",
            "Total Student(s): 1\n",
            "BRAC University Student(s): 1\n",
            "Other Institution Student(s): 0\n",
            "========================\n",
            "Name: Harry Potter\n",
            "Department: Defence Against Dark Arts\n",
            "Institution: Hogwarts School\n",
            "-------------------------------------------\n",
            "Total Student(s): 2\n",
            "BRAC University Student(s): 1\n",
            "Other Institution Student(s): 1\n",
            "=========================\n",
            "Name: Levi Ackerman\n",
            "Department: CSE\n",
            "Institution: BRAC University\n",
            "--------------------------------------------\n",
            "Total Student(s): 3\n",
            "BRAC University Student(s): 2\n",
            "Other Institution Student(s): 1\n"
          ]
        }
      ]
    },
    {
      "cell_type": "markdown",
      "source": [
        "10"
      ],
      "metadata": {
        "id": "HxDHjrAjYdfk"
      }
    },
    {
      "cell_type": "code",
      "source": [
        "class SultansDine:\n",
        "  branch_number=0\n",
        "  total_sell=0\n",
        "  branch_lst=[]\n",
        "  def __init__(self,branch):\n",
        "    self.branch=branch\n",
        "    self.branch_sell=0\n",
        "    SultansDine.branch_number+=1\n",
        "  def sellQuantity(self,quantity):\n",
        "    if quantity<10:\n",
        "      self.branch_sell=quantity*300\n",
        "    elif 10<=quantity<20:\n",
        "      self.branch_sell=quantity*350\n",
        "    else:\n",
        "      self.branch_sell=quantity*400\n",
        "    SultansDine.total_sell+=self.branch_sell\n",
        "  def branchInformation(self):\n",
        "    print(f'Branch Name: {self.branch}\\nBranch Sell: {self.branch_sell}')\n",
        "    SultansDine.branch_lst.append(self.branch)\n",
        "    SultansDine.branch_lst.append(self.branch_sell)\n",
        "  @classmethod\n",
        "  def details(cls):\n",
        "    print(f'Total Number of branch(s): {cls.branch_number}\\nTotal Sell: {cls.total_sell}')\n",
        "    for i in range(0,len(cls.branch_lst),2):\n",
        "      print(f'Branch Name: {cls.branch_lst[i]}, Branch Sell: {cls.branch_lst[i+1]}')\n",
        "      print(f\"Branch cosists of total sell's: {round((cls.branch_lst[i+1]/cls.total_sell)*100,2)}%\")\n",
        "SultansDine.details()\n",
        "print('########################')\n",
        "dhanmodi = SultansDine('Dhanmondi')\n",
        "dhanmodi.sellQuantity(25)\n",
        "dhanmodi.branchInformation()\n",
        "print('-----------------------------------------')\n",
        "SultansDine.details()\n",
        "print('========================')\n",
        "baily_road = SultansDine('Baily Road')\n",
        "baily_road.sellQuantity(15)\n",
        "baily_road.branchInformation()\n",
        "print('-----------------------------------------')\n",
        "SultansDine.details()\n",
        "print('========================')\n",
        "gulshan = SultansDine('Gulshan')\n",
        "gulshan.sellQuantity(9)\n",
        "gulshan.branchInformation()\n",
        "print('-----------------------------------------')\n",
        "SultansDine.details()      "
      ],
      "metadata": {
        "colab": {
          "base_uri": "https://localhost:8080/"
        },
        "id": "MzoY1hnBStWM",
        "outputId": "a3ff82c9-38d2-4094-ebc2-75a16d987ea5"
      },
      "execution_count": 58,
      "outputs": [
        {
          "output_type": "stream",
          "name": "stdout",
          "text": [
            "Total Number of branch(s): 0\n",
            "Total Sell: 0\n",
            "########################\n",
            "Branch Name: Dhanmondi\n",
            "Branch Sell: 10000\n",
            "-----------------------------------------\n",
            "Total Number of branch(s): 1\n",
            "Total Sell: 10000\n",
            "Branch Name: Dhanmondi, Branch Sell: 10000\n",
            "Branch cosists of total sell's: 100.0%\n",
            "========================\n",
            "Branch Name: Baily Road\n",
            "Branch Sell: 5250\n",
            "-----------------------------------------\n",
            "Total Number of branch(s): 2\n",
            "Total Sell: 15250\n",
            "Branch Name: Dhanmondi, Branch Sell: 10000\n",
            "Branch cosists of total sell's: 65.57%\n",
            "Branch Name: Baily Road, Branch Sell: 5250\n",
            "Branch cosists of total sell's: 34.43%\n",
            "========================\n",
            "Branch Name: Gulshan\n",
            "Branch Sell: 2700\n",
            "-----------------------------------------\n",
            "Total Number of branch(s): 3\n",
            "Total Sell: 17950\n",
            "Branch Name: Dhanmondi, Branch Sell: 10000\n",
            "Branch cosists of total sell's: 55.71%\n",
            "Branch Name: Baily Road, Branch Sell: 5250\n",
            "Branch cosists of total sell's: 29.25%\n",
            "Branch Name: Gulshan, Branch Sell: 2700\n",
            "Branch cosists of total sell's: 15.04%\n"
          ]
        }
      ]
    }
  ]
}