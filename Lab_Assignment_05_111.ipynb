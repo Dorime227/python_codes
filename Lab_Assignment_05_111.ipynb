{
  "nbformat": 4,
  "nbformat_minor": 0,
  "metadata": {
    "colab": {
      "name": "Lab Assignment 05-111.ipynb",
      "provenance": [],
      "collapsed_sections": [],
      "authorship_tag": "ABX9TyOjeIYT1V7XneI7qgormfCf",
      "include_colab_link": true
    },
    "kernelspec": {
      "name": "python3",
      "display_name": "Python 3"
    },
    "language_info": {
      "name": "python"
    }
  },
  "cells": [
    {
      "cell_type": "markdown",
      "metadata": {
        "id": "view-in-github",
        "colab_type": "text"
      },
      "source": [
        "<a href=\"https://colab.research.google.com/github/Atiq0641/python_codes/blob/main/Lab_Assignment_05_111.ipynb\" target=\"_parent\"><img src=\"https://colab.research.google.com/assets/colab-badge.svg\" alt=\"Open In Colab\"/></a>"
      ]
    },
    {
      "cell_type": "code",
      "execution_count": null,
      "metadata": {
        "colab": {
          "base_uri": "https://localhost:8080/"
        },
        "id": "2Z117VOI8wJb",
        "outputId": "135d5678-989d-4112-80d8-ac49a8fdfdbd"
      },
      "outputs": [
        {
          "output_type": "stream",
          "name": "stdout",
          "text": [
            "Quiz 1 (out of 10): 10\n",
            "Quiz 2 (out of 10): 10\n",
            "Lab (out of 30): 30\n",
            "Mid (out of 20): 20\n",
            "Final (out of 30): 30\n",
            "Total marks: 100\n"
          ]
        }
      ],
      "source": [
        "class Marks:\n",
        "  def __init__(self,mark):\n",
        "    self.mark=mark\n",
        "  def __add__(self,other):\n",
        "    return Marks(self. mark+ other.mark)  \n",
        "Q1 = Marks(int(input(\"Quiz 1 (out of 10): \")))\n",
        "Q2 = Marks(int(input(\"Quiz 2 (out of 10): \")))\n",
        "Lab = Marks(int(input(\"Lab (out of 30): \")))\n",
        "Mid = Marks(int(input(\"Mid (out of 20): \")))\n",
        "Final = Marks(int(input(\"Final (out of 30): \")))\n",
        "total = Q1 + Q2 + Lab + Mid + Final\n",
        "print(\"Total marks: {}\".format(total.mark))"
      ]
    },
    {
      "cell_type": "code",
      "source": [
        "class Teacher:\n",
        "  def __init__(self,name,department):\n",
        "    self.__name=name\n",
        "    self.__department=department\n",
        "    self.course_list=[]\n",
        "  def printDetail(self):\n",
        "    print(\"====================================\") \n",
        "    print(f'Name: {self.__name}\\nDepartment: {self.__department}\\nList of courses\\n====================================')\n",
        "    for i in self.course_list:\n",
        "      print(i)\n",
        "    print(\"====================================\")  \n",
        "  def addCourse(self,course):\n",
        "    self.course_list.append(course.course1)  \n",
        "class Course:\n",
        "  def __init__(self,course1):\n",
        "    self.course1=course1\n",
        "t1 = Teacher(\"Saad Abdullah\", \"CSE\")\n",
        "t2 = Teacher(\"Mumit Khan\", \"CSE\")\n",
        "t3 = Teacher(\"Sadia Kazi\", \"CSE\")\n",
        "c1 = Course(\"CSE 110 Programming Language I\")\n",
        "c2 = Course(\"CSE 111 Programming Language-II\")\n",
        "c3 = Course(\"CSE 220 Data Structures\")\n",
        "c4 = Course(\"CSE 221 Algorithms\")\n",
        "c5 = Course(\"CCSE 230 Discrete Mathematics\")\n",
        "c6 = Course(\"CSE 310 Object Oriented Programming\")\n",
        "c7 = Course(\"CSE 320 Data Communications\")\n",
        "c8 = Course(\"CSE 340 Computer Architecture\")\n",
        "t1.addCourse(c1)\n",
        "t1.addCourse(c2)\n",
        "t2.addCourse(c3)\n",
        "t2.addCourse(c4)\n",
        "t2.addCourse(c5)\n",
        "t3.addCourse(c6)\n",
        "t3.addCourse(c7)\n",
        "t3.addCourse(c8)\n",
        "t1.printDetail()\n",
        "t2.printDetail()\n",
        "t3.printDetail()    "
      ],
      "metadata": {
        "colab": {
          "base_uri": "https://localhost:8080/"
        },
        "id": "Nfd9GB5p-Xfk",
        "outputId": "7554ab21-e3e2-4e27-8d07-33ccee68fc6a"
      },
      "execution_count": null,
      "outputs": [
        {
          "output_type": "stream",
          "name": "stdout",
          "text": [
            "====================================\n",
            "Name: Saad Abdullah\n",
            "Department: CSE\n",
            "List of courses\n",
            "====================================\n",
            "CSE 110 Programming Language I\n",
            "CSE 111 Programming Language-II\n",
            "====================================\n",
            "====================================\n",
            "Name: Mumit Khan\n",
            "Department: CSE\n",
            "List of courses\n",
            "====================================\n",
            "CSE 220 Data Structures\n",
            "CSE 221 Algorithms\n",
            "CCSE 230 Discrete Mathematics\n",
            "====================================\n",
            "====================================\n",
            "Name: Sadia Kazi\n",
            "Department: CSE\n",
            "List of courses\n",
            "====================================\n",
            "CSE 310 Object Oriented Programming\n",
            "CSE 320 Data Communications\n",
            "CSE 340 Computer Architecture\n",
            "====================================\n"
          ]
        }
      ]
    },
    {
      "cell_type": "code",
      "source": [
        "class Team:\n",
        "  def __init__(self,team=None):\n",
        "    self.__team=team\n",
        "    self.player_list=[]\n",
        "  def setName(self,name):\n",
        "    if self.__team==None:\n",
        "      self.__team=name\n",
        "  def addPlayer(self,player):\n",
        "    self.player_list.append(player.player_name)\n",
        "  def printDetail(self):\n",
        "    print(f'=====================\\nTeam: {self.__team}\\nList of Players:\\n{self.player_list}\\n=====================')      \n",
        "class Player:\n",
        "  def __init__(self,player_name):\n",
        "    self.player_name=player_name\n",
        "b = Team()\n",
        "b.setName('Bangladesh')\n",
        "mashrafi = Player(\"Mashrafi\")\n",
        "b.addPlayer(mashrafi)\n",
        "tamim = Player(\"Tamim\")\n",
        "b.addPlayer(tamim)\n",
        "b.printDetail()\n",
        "a = Team(\"Australia\")\n",
        "ponting = Player(\"Ponting\")\n",
        "a.addPlayer(ponting)\n",
        "lee = Player(\"Lee\")\n",
        "a.addPlayer(lee)\n",
        "a.printDetail()    "
      ],
      "metadata": {
        "colab": {
          "base_uri": "https://localhost:8080/"
        },
        "id": "EoCfNKK8KRRd",
        "outputId": "0a802f88-dfed-4de6-b91f-5714631c3e38"
      },
      "execution_count": null,
      "outputs": [
        {
          "output_type": "stream",
          "name": "stdout",
          "text": [
            "=====================\n",
            "Team: Bangladesh\n",
            "List of Players:\n",
            "['Mashrafi', 'Tamim']\n",
            "=====================\n",
            "=====================\n",
            "Team: Australia\n",
            "List of Players:\n",
            "['Ponting', 'Lee']\n",
            "=====================\n"
          ]
        }
      ]
    },
    {
      "cell_type": "code",
      "source": [
        "class Color:\n",
        "  def __init__(self,clr):\n",
        "    self.clr=clr\n",
        "  def __add__(self,other):\n",
        "    if (self.clr=='red' and other.clr=='yellow') or (self.clr=='yellow' and other.clr=='red'):\n",
        "      clr=\"Orange\"\n",
        "    elif (self.clr=='red' and other.clr=='blue') or (self.clr=='blue' and other.clr=='red'):\n",
        "      clr=\"Violet\"\n",
        "    elif (self.clr=='yellow' and other.clr=='blue') or (self.clr=='blue' and other.clr=='yellow'):\n",
        "      clr='Green'\n",
        "    return Color(clr)\n",
        "C1 = Color(input(\"First Color: \").lower())\n",
        "C2 = Color(input(\"Second Color: \").lower())\n",
        "C3 = C1 + C2\n",
        "print(\"Color formed:\", C3.clr)     "
      ],
      "metadata": {
        "colab": {
          "base_uri": "https://localhost:8080/"
        },
        "id": "4B4hTElhPLtM",
        "outputId": "0597e964-66ba-43f0-a8f8-9a7e93137e51"
      },
      "execution_count": null,
      "outputs": [
        {
          "output_type": "stream",
          "name": "stdout",
          "text": [
            "First Color: red\n",
            "Second Color: yellow\n",
            "Color formed: Orange\n"
          ]
        }
      ]
    },
    {
      "cell_type": "code",
      "source": [
        "import math \n",
        "class Circle:\n",
        "  def __init__(self,radius):\n",
        "    self.__radius=radius\n",
        "  def getRadius(self):\n",
        "    return self.__radius\n",
        "  def setRadius(self,radius):\n",
        "    self.__radius=radius\n",
        "  def area(self):\n",
        "    self.area=0\n",
        "    self.area=math.pi*(self.__radius**2)\n",
        "    return self.area\n",
        "  def __add__(self,other):\n",
        "    return Circle(self.__radius+other.__radius)\n",
        "c1 = Circle(4)\n",
        "print(\"First circle radius:\" , c1.getRadius())\n",
        "print(\"First circle area:\" ,c1.area())\n",
        "c2 = Circle(5)\n",
        "print(\"Second circle radius:\" ,c2.getRadius())\n",
        "print(\"Second circle area:\" ,c2.area())\n",
        "c3 = c1 + c2\n",
        "print(\"Third circle radius:\" ,c3.getRadius())\n",
        "print(\"Third circle area:\" ,c3.area())    "
      ],
      "metadata": {
        "colab": {
          "base_uri": "https://localhost:8080/"
        },
        "id": "BvZjlrmNm5Aw",
        "outputId": "29b29dd1-0eff-4794-8b41-d1bce5c3714c"
      },
      "execution_count": null,
      "outputs": [
        {
          "output_type": "stream",
          "name": "stdout",
          "text": [
            "First circle radius: 4\n",
            "First circle area: 50.26548245743669\n",
            "Second circle radius: 21\n",
            "Second circle area: 1385.4423602330987\n",
            "Third circle radius: 25\n",
            "Third circle area: 1963.4954084936207\n"
          ]
        }
      ]
    },
    {
      "cell_type": "code",
      "source": [
        "class Triangle:\n",
        "  def __init__(self,base,height):\n",
        "    self.__base=base\n",
        "    self.__height=height\n",
        "  def getBase(self):\n",
        "    return self.__base\n",
        "  def setBase(self,base):\n",
        "    self.__base=base\n",
        "  def getHeight(self):\n",
        "    return self.__height\n",
        "  def setHeight(self,height):\n",
        "    self.__height=height\n",
        "  def area(self):\n",
        "    self.area=0.5*self.__height*self.__base\n",
        "    return self.area\n",
        "  def __sub__(self,other):\n",
        "    return Triangle(self.__base - other.__base,self.__height - other.__height)\n",
        "    #return Triangle(new_height,new_base)\n",
        "t1 = Triangle(10, 5)\n",
        "print(\"First Triangle Base:\" , t1.getBase())\n",
        "print(\"First Triangle Height:\" , t1.getHeight())\n",
        "print(\"First Triangle area:\" ,t1.area())\n",
        "t2 = Triangle(5, 3)\n",
        "print(\"Second Triangle Base:\" , t2.getBase())\n",
        "print(\"Second Triangle Height:\" , t2.getHeight())\n",
        "print(\"Second Triangle area:\" ,t2.area())\n",
        "t3 = t1 -t2\n",
        "print(\"Third Triangle Base:\" , t3.getBase())\n",
        "print(\"Third Triangle Height:\" , t3.getHeight())\n",
        "print(\"Third Triangle area:\" ,t3.area())       "
      ],
      "metadata": {
        "colab": {
          "base_uri": "https://localhost:8080/"
        },
        "id": "j720XzfqpP30",
        "outputId": "9af31ae2-312f-465f-ca23-3e2e9985d119"
      },
      "execution_count": null,
      "outputs": [
        {
          "output_type": "stream",
          "name": "stdout",
          "text": [
            "First Triangle Base: 10\n",
            "First Triangle Height: 5\n",
            "First Triangle area: 25.0\n",
            "Second Triangle Base: 5\n",
            "Second Triangle Height: 3\n",
            "Second Triangle area: 7.5\n",
            "Third Triangle Base: 5\n",
            "Third Triangle Height: 2\n",
            "Third Triangle area: 5.0\n"
          ]
        }
      ]
    },
    {
      "cell_type": "code",
      "source": [
        "class Team:\n",
        "  def __init__(self,team=None):\n",
        "    self.__team=team\n",
        "    self.player_list=[]\n",
        "  def addPlayer(self,player):\n",
        "    self.player_list.append(player.player_name)\n",
        "  def printDetail(self):\n",
        "    print(f'=====================\\nTeam: {self.__team}\\nList of Players:\\n{self.player_list}\\n=====================')\n",
        "  def setName(self,name):\n",
        "    self.__team=name  \n",
        "class Player:\n",
        "  def __init__(self,player_name):\n",
        "    self.player_name=player_name \n",
        "b = Team()\n",
        "b.setName('Bangladesh')\n",
        "mashrafi = Player(\"Mashrafi\")\n",
        "b.addPlayer(mashrafi)\n",
        "tamim = Player(\"Tamim\")\n",
        "b.addPlayer(tamim)\n",
        "b.printDetail()\n",
        "a = Team(\"Australia\")\n",
        "ponting = Player(\"Ponting\")\n",
        "a.addPlayer(ponting)\n",
        "lee = Player(\"Lee\")\n",
        "a.addPlayer(lee)\n",
        "a.printDetail()        "
      ],
      "metadata": {
        "colab": {
          "base_uri": "https://localhost:8080/"
        },
        "id": "x0SK2pvKHWVc",
        "outputId": "6915235e-3433-4a1e-ddc0-e5ce535729d1"
      },
      "execution_count": null,
      "outputs": [
        {
          "output_type": "stream",
          "name": "stdout",
          "text": [
            "=====================\n",
            "Team: Bangladesh\n",
            "List of Players:\n",
            "['Mashrafi', 'Tamim']\n",
            "=====================\n",
            "=====================\n",
            "Team: Australia\n",
            "List of Players:\n",
            "['Ponting', 'Lee']\n",
            "=====================\n"
          ]
        }
      ]
    },
    {
      "cell_type": "code",
      "source": [
        "class Color:\n",
        "  def __init__(self,color):\n",
        "    self.clr=color\n",
        "  def __add__(self,other):\n",
        "    if (self.clr=='red' and other.clr=='yellow') or (self.clr=='yellow' and other.clr=='red'):\n",
        "      clr=\"Orange\"\n",
        "    elif (self.clr=='red' and other.clr=='blue') or (self.clr=='blue' and other.clr=='red'):\n",
        "      clr=\"Violet\"\n",
        "    elif (self.clr=='yellow' and other.clr=='blue') or (self.clr=='blue' and other.clr=='yellow'):\n",
        "      clr='Green'\n",
        "    else:\n",
        "      clr=None  \n",
        "    return Color(clr) \n",
        "C1 = Color(input(\"First Color: \").lower())\n",
        "C2 = Color(input(\"Second Color: \").lower())\n",
        "C3 = C1 + C2\n",
        "print(\"Color formed:\", C3.clr)"
      ],
      "metadata": {
        "colab": {
          "base_uri": "https://localhost:8080/"
        },
        "id": "Xondin9ZM9Jm",
        "outputId": "b476e3b1-e9f7-4a27-c766-64f12a375d09"
      },
      "execution_count": null,
      "outputs": [
        {
          "output_type": "stream",
          "name": "stdout",
          "text": [
            "First Color: yellow\n",
            "Second Color: BLUE\n",
            "Color formed: Green\n"
          ]
        }
      ]
    },
    {
      "cell_type": "markdown",
      "source": [
        "7"
      ],
      "metadata": {
        "id": "cbEprfd_SfSM"
      }
    },
    {
      "cell_type": "code",
      "source": [
        "class Dolls:\n",
        "  def __init__(self,name,price):\n",
        "    self.name=name\n",
        "    self.price=price\n",
        "  def detail(self):\n",
        "    return f'Doll: {self.name}\\nPrice: {self.price}'\n",
        "  def __gt__(self,other):\n",
        "    if self.price>other.price:\n",
        "      return True\n",
        "    else:\n",
        "      return False\n",
        "  def __add__(self,other):\n",
        "    new_price= self.price+other.price\n",
        "    new_dolls= self.name+\" \"+other.name\n",
        "    return Dolls(new_dolls,new_price)\n",
        "obj_1 = Dolls(\"Tweety\", 2500)\n",
        "print(obj_1.detail())\n",
        "if obj_1 > obj_1:\n",
        "  print(\"Congratulations! You get the Tweety as a gift!\")\n",
        "else:\n",
        "  print(\"Thank you!\")\n",
        "print(\"=========================\")\n",
        "obj_2 = Dolls(\"Daffy Duck\", 1800)\n",
        "print(obj_2.detail())\n",
        "if obj_2 > obj_1:\n",
        "  print(\"Congratulations! You get the Tweety as a gift!\")\n",
        "else:\n",
        "  print(\"Thank you!\")\n",
        "print(\"=========================\")\n",
        "obj_3 = Dolls(\"Bugs Bunny\", 3000)\n",
        "print(obj_3.detail())\n",
        "if obj_3 > obj_1:\n",
        "  print(\"Congratulations! You get the Tweety as a gift!\")\n",
        "else:\n",
        "  print(\"Thank you!\")\n",
        "print(\"=========================\")\n",
        "obj_4 = Dolls(\"Porky Pig\", 1500)\n",
        "print(obj_4.detail())\n",
        "if obj_4 > obj_1:\n",
        "  print(\"Congratulations! You get the Tweety as a gift!\")\n",
        "else:\n",
        "  print(\"Thank you!\")\n",
        "print(\"=========================\")\n",
        "obj_5 = obj_2 + obj_3\n",
        "print(obj_5.detail())\n",
        "if obj_5 > obj_1:\n",
        "  print(\"Congratulations! You get the Tweety as a gift!\")\n",
        "else:\n",
        "  print(\"Thank you!\")        "
      ],
      "metadata": {
        "colab": {
          "base_uri": "https://localhost:8080/"
        },
        "id": "K1rUhRgLPe2d",
        "outputId": "f81de1fd-abf4-4b4d-9f6b-876a0d346618"
      },
      "execution_count": null,
      "outputs": [
        {
          "output_type": "stream",
          "name": "stdout",
          "text": [
            "Doll: Tweety\n",
            "Price: 2500\n",
            "Thank you!\n",
            "=========================\n",
            "Doll: Daffy Duck\n",
            "Price: 1800\n",
            "Thank you!\n",
            "=========================\n",
            "Doll: Bugs Bunny\n",
            "Price: 3000\n",
            "Congratulations! You get the Tweety as a gift!\n",
            "=========================\n",
            "Doll: Porky Pig\n",
            "Price: 1500\n",
            "Thank you!\n",
            "=========================\n",
            "Doll: Daffy Duck Bugs Bunny\n",
            "Price: 4800\n",
            "Congratulations! You get the Tweety as a gift!\n"
          ]
        }
      ]
    },
    {
      "cell_type": "code",
      "source": [
        "class Coordinates:\n",
        "  def __init__(self,num1,num2):\n",
        "    self.num1=num1\n",
        "    self.num2=num2\n",
        "  def __sub__(self,other):\n",
        "    new_num1=self.num1-other.num1\n",
        "    new_num2=self.num2-other.num2\n",
        "    return Coordinates(new_num1,new_num2)\n",
        "  def __mul__(self,other):\n",
        "    return Coordinates(self.num1*other.num1,self.num2*other.num2)\n",
        "  def __eq__(self,other):\n",
        "    if self.num1==other.num1 and self.num2==other.num2:\n",
        "      return \"The calculated coordinates are the same\"\n",
        "    else:\n",
        "      return \"The calculated coordinates are NOT the same\"\n",
        "  def detail(self):\n",
        "    return (self.num1,self.num2)\n",
        "p1 = Coordinates(int(input()),int(input()))\n",
        "p2 = Coordinates(int(input()),int(input()))\n",
        "p4 = p1 - p2\n",
        "print(p4.detail())\n",
        "p5 = p1 * p2\n",
        "print(p5.detail())\n",
        "point_check = (p4 == p5)\n",
        "print(point_check)       "
      ],
      "metadata": {
        "colab": {
          "base_uri": "https://localhost:8080/"
        },
        "id": "0dqXR8u_SM5f",
        "outputId": "bde006c6-7c41-4ad9-89cf-e6e00242a645"
      },
      "execution_count": null,
      "outputs": [
        {
          "output_type": "stream",
          "name": "stdout",
          "text": [
            "0\n",
            "0\n",
            "0\n",
            "0\n",
            "(0, 0)\n",
            "(0, 0)\n",
            "The calculated coordinates are the same\n"
          ]
        }
      ]
    },
    {
      "cell_type": "code",
      "source": [
        "class RickMote:\n",
        "  def __init__(self):\n",
        "    self.tv_power=\"OFF\"\n",
        "    self.channels=[0,2,3,6,7,9]\n",
        "    self.channel=0\n",
        "    self.volume=3\n",
        "  def power(self):\n",
        "    if self.tv_power==\"OFF\":\n",
        "      self.tv_power=\"ON\"\n",
        "    else:\n",
        "      self.tv_power=\"OFF\"\n",
        "  def showInfo(self):\n",
        "    if self.tv_power==\"OFF\":\n",
        "      print(f'ID Cable Box Status:\\nCable Box is: {self.tv_power}')\n",
        "    else:\n",
        "      print(f'ID Cable Box Status:\\nCable Box is: {self.tv_power}\\nChannel: {self.channel}\\nVolume: {self.volume}')\n",
        "  def changeChannel(self,channel=2):\n",
        "    if self.tv_power==\"ON\":\n",
        "      if channel in self.channels:\n",
        "        self.channel=channel\n",
        "      else:\n",
        "        print(\"TV channel does not exist.\")\n",
        "    else:\n",
        "      print(\"Power is turned off. Cannot change channel.\")\n",
        "  def changeVolumeLevel(self,volume=1):\n",
        "    if self.tv_power==\"ON\":\n",
        "      self.volume+=volume\n",
        "    else:\n",
        "      print('Power is turned off. Cannot change volume.')\n",
        "oTV = RickMote() # create the TV object\n",
        "oTV.power()\n",
        "print(\"1.########################################\")\n",
        "oTV.showInfo()\n",
        "print(\"2.########################################\")\n",
        "oTV.changeChannel()\n",
        "oTV.changeVolumeLevel()\n",
        "oTV.showInfo()\n",
        "print(\"3.########################################\")\n",
        "oTV.power()\n",
        "oTV.showInfo()\n",
        "print(\"4.########################################\")\n",
        "oTV.power()\n",
        "oTV.changeVolumeLevel(4)\n",
        "oTV.changeChannel(3)\n",
        "oTV.showInfo()\n",
        "print(\"5.########################################\")\n",
        "oTV.changeVolumeLevel(-2)\n",
        "oTV.showInfo()\n",
        "print(\"6.########################################\")\n",
        "oTV.power()\n",
        "oTV.changeChannel(9)\n",
        "oTV.changeVolumeLevel(-1)\n",
        "oTV.showInfo()\n",
        "print(\"7.########################################\")\n",
        "oTV.power()\n",
        "oTV.changeChannel(11)\n",
        "oTV.showInfo()                      "
      ],
      "metadata": {
        "colab": {
          "base_uri": "https://localhost:8080/"
        },
        "id": "6GcAWAAx8oym",
        "outputId": "08bf95bb-f04e-4ca0-a12d-4cb44509dfa3"
      },
      "execution_count": null,
      "outputs": [
        {
          "output_type": "stream",
          "name": "stdout",
          "text": [
            "1.########################################\n",
            "ID Cable Box Status:\n",
            "Cable Box is: ON\n",
            "Channel: 0\n",
            "Volume: 3\n",
            "2.########################################\n",
            "ID Cable Box Status:\n",
            "Cable Box is: ON\n",
            "Channel: 2\n",
            "Volume: 4\n",
            "3.########################################\n",
            "ID Cable Box Status:\n",
            "Cable Box is: OFF\n",
            "4.########################################\n",
            "ID Cable Box Status:\n",
            "Cable Box is: ON\n",
            "Channel: 3\n",
            "Volume: 8\n",
            "5.########################################\n",
            "ID Cable Box Status:\n",
            "Cable Box is: ON\n",
            "Channel: 3\n",
            "Volume: 6\n",
            "6.########################################\n",
            "Power is turned off. Cannot change channel.\n",
            "Power is turned off. Cannot change volume.\n",
            "ID Cable Box Status:\n",
            "Cable Box is: OFF\n",
            "7.########################################\n",
            "TV channel does not exist.\n",
            "ID Cable Box Status:\n",
            "Cable Box is: ON\n",
            "Channel: 3\n",
            "Volume: 6\n"
          ]
        }
      ]
    }
  ]
}